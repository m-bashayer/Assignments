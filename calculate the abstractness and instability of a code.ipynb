{
 "cells": [
  {
   "cell_type": "code",
   "execution_count": 48,
   "metadata": {
    "colab": {
     "base_uri": "https://localhost:8080/"
    },
    "id": "ScBn0V6UmeEI",
    "outputId": "d3bf445f-eb3e-4233-824e-e0f1c2465ef1"
   },
   "outputs": [
    {
     "name": "stdout",
     "output_type": "stream",
     "text": [
      "Enter The number of classes: 3\n"
     ]
    }
   ],
   "source": [
    "number_of_classes= input(\"Enter The number of classes: \")"
   ]
  },
  {
   "cell_type": "code",
   "execution_count": 49,
   "metadata": {
    "colab": {
     "base_uri": "https://localhost:8080/"
    },
    "id": "-DyfA7-TmmNY",
    "outputId": "7ce50c85-faff-48ea-e58a-fa6dd242ab29"
   },
   "outputs": [
    {
     "name": "stdout",
     "output_type": "stream",
     "text": [
      "Enter The name of class 1 (as class.java):Car.java\n",
      "Enter The name of class 2 (as class.java):Rental.java\n",
      "Enter The name of class 3 (as class.java):Customer.java\n"
     ]
    }
   ],
   "source": [
    "classes_names=[]\n",
    "for x in range(int(number_of_classes)):\n",
    "  num = x+1\n",
    "  name=input(\"Enter The name of class \"+ str(num) +\" (as class.java):\")\n",
    "  classes_names.append(name)"
   ]
  },
  {
   "cell_type": "code",
   "execution_count": 50,
   "metadata": {
    "id": "S6GRV50vr5Uv"
   },
   "outputs": [],
   "source": [
    "dependencies=[]\n",
    "abstract=[]\n",
    "for x in classes_names:\n",
    "  orgin_class = x.split(\".\")[0]\n",
    "  \n",
    "  length=len(classes_names)\n",
    "  example1 = \"/content/\"+x \n",
    "  with open(example1, \"r\") as file1:\n",
    "    Class = file1.readlines()\n",
    "    for y in range(length):\n",
    "      name = classes_names[y].split(\".\")[0]\n",
    "      \n",
    "      for c in Class:\n",
    "        if \"abstract class\" in c:\n",
    "          abstract.append(c)\n",
    "        if name in c and orgin_class!=name:     \n",
    "          dependencies.append(orgin_class +\",\"+ name)\n",
    "\n",
    "abstract=set(abstract)\n",
    "dependencies=set(dependencies)"
   ]
  },
  {
   "cell_type": "code",
   "execution_count": 51,
   "metadata": {
    "id": "3W1HbewjEsUx"
   },
   "outputs": [],
   "source": [
    "def get_names_of_classes(list):\n",
    "  classes=[]\n",
    "  for x in classes_names:\n",
    "    orgin_class = x.split(\".\")[0]\n",
    "    classes.append(orgin_class)\n",
    "  classes = set(classes)\n",
    "  return classes"
   ]
  },
  {
   "cell_type": "code",
   "execution_count": 52,
   "metadata": {
    "colab": {
     "base_uri": "https://localhost:8080/"
    },
    "id": "NbF--79BmRo6",
    "outputId": "d9104f48-faf7-411a-b87a-4b92a268a491"
   },
   "outputs": [
    {
     "name": "stdout",
     "output_type": "stream",
     "text": [
      "Customer in= 0 out= 2\n",
      "class Customer :\n",
      "The instability is = 1.00\n",
      "\n",
      "Rental in= 1 out= 1\n",
      "class Rental :\n",
      "The instability is = 0.50\n",
      "\n",
      "Car in= 2 out= 0\n",
      "class Car :\n",
      "The instability is = 0.00\n",
      "\n",
      "abstractness is = 0.00\n"
     ]
    }
   ],
   "source": [
    "classes=get_names_of_classes(classes_names)\n",
    "\n",
    "v=[]\n",
    "fan_in=[]\n",
    "fan_out=[]\n",
    "for x in dependencies:\n",
    "  \n",
    "    b=x.split(\",\")\n",
    "    v.append(b)\n",
    "#print(v)\n",
    "for x in v:\n",
    "  fan_out.append(x[0])\n",
    "  fan_in.append(x[1])\n",
    "\n",
    "for x in classes:\n",
    "  \n",
    "  fin= fan_in.count(x)\n",
    "  fout= fan_out.count(x)\n",
    "  print(x ,\"in=\", fin, \"out=\", fout)\n",
    "  instability=fout/(fin+fout)\n",
    "  \n",
    "  print(\"class\",x,\":\")\n",
    "  print(\"The instability is =\",\"{:.2f}\".format(instability))\n",
    "  print()\n",
    "#print(abstract)\n",
    "abstractness= len(abstract)/int(number_of_classes)\n",
    "print(\"abstractness is =\",\"{:.2f}\".format(abstractness))"
   ]
  }
 ],
 "metadata": {
  "colab": {
   "collapsed_sections": [],
   "name": "Task2.ipynb",
   "provenance": []
  },
  "kernelspec": {
   "display_name": "Python 3",
   "language": "python",
   "name": "python3"
  },
  "language_info": {
   "codemirror_mode": {
    "name": "ipython",
    "version": 3
   },
   "file_extension": ".py",
   "mimetype": "text/x-python",
   "name": "python",
   "nbconvert_exporter": "python",
   "pygments_lexer": "ipython3",
   "version": "3.8.5"
  }
 },
 "nbformat": 4,
 "nbformat_minor": 1
}
